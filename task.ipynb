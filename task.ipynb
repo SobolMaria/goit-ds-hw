{
  "nbformat": 4,
  "nbformat_minor": 0,
  "metadata": {
    "colab": {
      "provenance": [],
      "authorship_tag": "ABX9TyMWL4Ck98Zi0fnZhXkNCxm0",
      "include_colab_link": true
    },
    "kernelspec": {
      "name": "python3",
      "display_name": "Python 3"
    },
    "language_info": {
      "name": "python"
    }
  },
  "cells": [
    {
      "cell_type": "markdown",
      "metadata": {
        "id": "view-in-github",
        "colab_type": "text"
      },
      "source": [
        "<a href=\"https://colab.research.google.com/github/SobolMaria/goit-ds-hw-10/blob/main/task.ipynb\" target=\"_parent\"><img src=\"https://colab.research.google.com/assets/colab-badge.svg\" alt=\"Open In Colab\"/></a>"
      ]
    },
    {
      "cell_type": "code",
      "source": [
        "!pip install surprise"
      ],
      "metadata": {
        "colab": {
          "base_uri": "https://localhost:8080/"
        },
        "id": "r6fuq0OHxCQv",
        "outputId": "55c06073-9a21-48dd-d559-5595f2e8edd9"
      },
      "execution_count": null,
      "outputs": [
        {
          "output_type": "stream",
          "name": "stdout",
          "text": [
            "Collecting surprise\n",
            "  Downloading surprise-0.1-py2.py3-none-any.whl.metadata (327 bytes)\n",
            "Collecting scikit-surprise (from surprise)\n",
            "  Downloading scikit_surprise-1.1.4.tar.gz (154 kB)\n",
            "\u001b[?25l     \u001b[90m━━━━━━━━━━━━━━━━━━━━━━━━━━━━━━━━━━━━━━━━\u001b[0m \u001b[32m0.0/154.4 kB\u001b[0m \u001b[31m?\u001b[0m eta \u001b[36m-:--:--\u001b[0m\r\u001b[2K     \u001b[90m━━━━━━━━━━━━━━━━━━━━━━━━━━━━━━━━━━━━━━━━\u001b[0m \u001b[32m154.4/154.4 kB\u001b[0m \u001b[31m4.2 MB/s\u001b[0m eta \u001b[36m0:00:00\u001b[0m\n",
            "\u001b[?25h  Installing build dependencies ... \u001b[?25l\u001b[?25hdone\n",
            "  Getting requirements to build wheel ... \u001b[?25l\u001b[?25hdone\n",
            "  Preparing metadata (pyproject.toml) ... \u001b[?25l\u001b[?25hdone\n",
            "Requirement already satisfied: joblib>=1.2.0 in /usr/local/lib/python3.10/dist-packages (from scikit-surprise->surprise) (1.4.2)\n",
            "Requirement already satisfied: numpy>=1.19.5 in /usr/local/lib/python3.10/dist-packages (from scikit-surprise->surprise) (1.26.4)\n",
            "Requirement already satisfied: scipy>=1.6.0 in /usr/local/lib/python3.10/dist-packages (from scikit-surprise->surprise) (1.13.1)\n",
            "Downloading surprise-0.1-py2.py3-none-any.whl (1.8 kB)\n",
            "Building wheels for collected packages: scikit-surprise\n",
            "  Building wheel for scikit-surprise (pyproject.toml) ... \u001b[?25l\u001b[?25hdone\n",
            "  Created wheel for scikit-surprise: filename=scikit_surprise-1.1.4-cp310-cp310-linux_x86_64.whl size=2357291 sha256=e7fae08859a5acb5c607caac2fa53f6ce9b576d5dbf61093c4b43022012ccaf0\n",
            "  Stored in directory: /root/.cache/pip/wheels/4b/3f/df/6acbf0a40397d9bf3ff97f582cc22fb9ce66adde75bc71fd54\n",
            "Successfully built scikit-surprise\n",
            "Installing collected packages: scikit-surprise, surprise\n",
            "Successfully installed scikit-surprise-1.1.4 surprise-0.1\n"
          ]
        }
      ]
    },
    {
      "cell_type": "code",
      "execution_count": null,
      "metadata": {
        "id": "tDMdt_7CwhIX"
      },
      "outputs": [],
      "source": [
        "from surprise import SVD, SVDpp, NMF, Dataset\n",
        "from surprise.model_selection import cross_validate, GridSearchCV"
      ]
    },
    {
      "cell_type": "code",
      "source": [
        "data = Dataset.load_builtin('ml-100k')"
      ],
      "metadata": {
        "colab": {
          "base_uri": "https://localhost:8080/"
        },
        "id": "Xs0THxfAw0Ir",
        "outputId": "f36df881-e8db-4261-a977-1844ee67a674"
      },
      "execution_count": null,
      "outputs": [
        {
          "output_type": "stream",
          "name": "stdout",
          "text": [
            "Dataset ml-100k could not be found. Do you want to download it? [Y/n] y\n",
            "Trying to download dataset from https://files.grouplens.org/datasets/movielens/ml-100k.zip...\n",
            "Done! Dataset ml-100k has been saved to /root/.surprise_data/ml-100k\n"
          ]
        }
      ]
    },
    {
      "cell_type": "code",
      "source": [
        "param_grid_svd = {\n",
        "    'n_factors': [50, 100, 150],\n",
        "    'n_epochs': [20, 30],\n",
        "    'lr_all': [0.005, 0.010],\n",
        "    'reg_all': [0.02, 0.05]\n",
        "}\n",
        "\n",
        "gs_svd = GridSearchCV(SVD, param_grid_svd, measures=['rmse', 'mae'], cv=5)\n",
        "gs_svd.fit(data)"
      ],
      "metadata": {
        "id": "Fzu37Bhix5-b"
      },
      "execution_count": null,
      "outputs": []
    },
    {
      "cell_type": "code",
      "source": [
        "param_grid_nmf = {\n",
        "    'n_factors': [15, 30],\n",
        "    'n_epochs': [50, 100],\n",
        "    'reg_pu': [0.06, 0.1],\n",
        "    'reg_qi': [0.06, 0.1]\n",
        "}\n",
        "gs_nmf = GridSearchCV(NMF, param_grid_nmf, measures=['rmse', 'mae'], cv=5)\n",
        "gs_nmf.fit(data)"
      ],
      "metadata": {
        "id": "OFlFn6rLdfrq"
      },
      "execution_count": null,
      "outputs": []
    },
    {
      "cell_type": "code",
      "source": [
        "param_grid_svdpp = {\n",
        "    'n_factors': [20],\n",
        "    'n_epochs': [20],\n",
        "    'lr_all': [0.007],\n",
        "    'reg_all': [0.02]\n",
        "}\n",
        "gs_svdpp = GridSearchCV(SVDpp, param_grid_svdpp, measures=['rmse', 'mae'], cv=5)\n",
        "gs_svdpp.fit(data)"
      ],
      "metadata": {
        "id": "-WHcXzlFgpeJ"
      },
      "execution_count": null,
      "outputs": []
    },
    {
      "cell_type": "code",
      "source": [
        "print(\"SVD найкращі параметри:\", gs_svd.best_params['rmse'])\n",
        "print(\"SVD найкращий RMSE:\", gs_svd.best_score['rmse'])\n",
        "\n",
        "print(\"SVD++ найкращі параметри:\", gs_svdpp.best_params['rmse'])\n",
        "print(\"SVD++ найкращий RMSE:\", gs_svdpp.best_score['rmse'])\n",
        "\n",
        "print(\"NMF найкращі параметри:\", gs_nmf.best_params['rmse'])\n",
        "print(\"NMF найкращий RMSE:\", gs_nmf.best_score['rmse'])"
      ],
      "metadata": {
        "colab": {
          "base_uri": "https://localhost:8080/"
        },
        "id": "zxSvfaV1jy15",
        "outputId": "c6863aee-c4f9-4144-83f6-b84ece817934"
      },
      "execution_count": null,
      "outputs": [
        {
          "output_type": "stream",
          "name": "stdout",
          "text": [
            "SVD найкращі параметри: {'n_factors': 50, 'n_epochs': 20, 'lr_all': 0.01, 'reg_all': 0.05}\n",
            "SVD найкращий RMSE: 0.9204260541276996\n",
            "SVD++ найкращі параметри: {'n_factors': 20, 'n_epochs': 20, 'lr_all': 0.007, 'reg_all': 0.02}\n",
            "SVD++ найкращий RMSE: 0.9202290599053171\n",
            "NMF найкращі параметри: {'n_factors': 30, 'n_epochs': 100, 'reg_pu': 0.1, 'reg_qi': 0.1}\n",
            "NMF найкращий RMSE: 0.9287732591454626\n"
          ]
        }
      ]
    },
    {
      "cell_type": "code",
      "source": [
        "if gs_svd.best_score['rmse'] < gs_svdpp.best_score['rmse'] and gs_svd.best_score['rmse'] < gs_nmf.best_score['rmse']:\n",
        "    best_algo = SVD(**gs_svd.best_params['rmse'])\n",
        "    best_name = \"SVD\"\n",
        "elif gs_svdpp.best_score['rmse'] < gs_nmf.best_score['rmse']:\n",
        "    best_algo = SVDpp(**gs_svdpp.best_params['rmse'])\n",
        "    best_name = \"SVD++\"\n",
        "else:\n",
        "    best_algo = NMF(**gs_nmf.best_params['rmse'])\n",
        "    best_name = \"NMF\"\n",
        "\n",
        "print(f\"Найкращий алгоритм: {best_name}\")"
      ],
      "metadata": {
        "id": "TX42CaYxj4LN",
        "outputId": "ffcb7617-3f05-4373-e2ec-1bb775af9059",
        "colab": {
          "base_uri": "https://localhost:8080/"
        }
      },
      "execution_count": null,
      "outputs": [
        {
          "output_type": "stream",
          "name": "stdout",
          "text": [
            "Найкращий алгоритм: SVD++\n"
          ]
        }
      ]
    }
  ]
}